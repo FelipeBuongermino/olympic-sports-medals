{
 "cells": [
  {
   "cell_type": "markdown",
   "id": "8c21718b",
   "metadata": {},
   "source": [
    "# Olympic Sports and Medals - 1896 - 2012 - Kaggle"
   ]
  },
  {
   "cell_type": "markdown",
   "id": "fc9cce73",
   "metadata": {},
   "source": [
    "Lets analyse some data provided by **'The Guardian'** on **[Kaggle](https://www.kaggle.com/datasets/the-guardian/olympic-games?datasetId=707&sortBy=voteCount)**!"
   ]
  },
  {
   "cell_type": "markdown",
   "id": "e7d88f86",
   "metadata": {},
   "source": [
    "## Libraries and imports"
   ]
  },
  {
   "cell_type": "code",
   "execution_count": 1,
   "id": "f5503599",
   "metadata": {},
   "outputs": [],
   "source": [
    "import pandas as pd\n",
    "import matplotlib.pyplot as plt"
   ]
  },
  {
   "cell_type": "markdown",
   "id": "a8360834",
   "metadata": {},
   "source": [
    "## Loading Dataset"
   ]
  },
  {
   "cell_type": "code",
   "execution_count": 2,
   "id": "b5a84f27",
   "metadata": {},
   "outputs": [],
   "source": [
    "df_summer = pd.read_csv('summer.csv')"
   ]
  },
  {
   "cell_type": "code",
   "execution_count": 3,
   "id": "ebf6e9d5",
   "metadata": {},
   "outputs": [
    {
     "data": {
      "text/html": [
       "<div>\n",
       "<style scoped>\n",
       "    .dataframe tbody tr th:only-of-type {\n",
       "        vertical-align: middle;\n",
       "    }\n",
       "\n",
       "    .dataframe tbody tr th {\n",
       "        vertical-align: top;\n",
       "    }\n",
       "\n",
       "    .dataframe thead th {\n",
       "        text-align: right;\n",
       "    }\n",
       "</style>\n",
       "<table border=\"1\" class=\"dataframe\">\n",
       "  <thead>\n",
       "    <tr style=\"text-align: right;\">\n",
       "      <th></th>\n",
       "      <th>Year</th>\n",
       "      <th>City</th>\n",
       "      <th>Sport</th>\n",
       "      <th>Discipline</th>\n",
       "      <th>Athlete</th>\n",
       "      <th>Country</th>\n",
       "      <th>Gender</th>\n",
       "      <th>Event</th>\n",
       "      <th>Medal</th>\n",
       "    </tr>\n",
       "  </thead>\n",
       "  <tbody>\n",
       "    <tr>\n",
       "      <th>0</th>\n",
       "      <td>1896</td>\n",
       "      <td>Athens</td>\n",
       "      <td>Aquatics</td>\n",
       "      <td>Swimming</td>\n",
       "      <td>HAJOS, Alfred</td>\n",
       "      <td>HUN</td>\n",
       "      <td>Men</td>\n",
       "      <td>100M Freestyle</td>\n",
       "      <td>Gold</td>\n",
       "    </tr>\n",
       "    <tr>\n",
       "      <th>1</th>\n",
       "      <td>1896</td>\n",
       "      <td>Athens</td>\n",
       "      <td>Aquatics</td>\n",
       "      <td>Swimming</td>\n",
       "      <td>HERSCHMANN, Otto</td>\n",
       "      <td>AUT</td>\n",
       "      <td>Men</td>\n",
       "      <td>100M Freestyle</td>\n",
       "      <td>Silver</td>\n",
       "    </tr>\n",
       "    <tr>\n",
       "      <th>2</th>\n",
       "      <td>1896</td>\n",
       "      <td>Athens</td>\n",
       "      <td>Aquatics</td>\n",
       "      <td>Swimming</td>\n",
       "      <td>DRIVAS, Dimitrios</td>\n",
       "      <td>GRE</td>\n",
       "      <td>Men</td>\n",
       "      <td>100M Freestyle For Sailors</td>\n",
       "      <td>Bronze</td>\n",
       "    </tr>\n",
       "    <tr>\n",
       "      <th>3</th>\n",
       "      <td>1896</td>\n",
       "      <td>Athens</td>\n",
       "      <td>Aquatics</td>\n",
       "      <td>Swimming</td>\n",
       "      <td>MALOKINIS, Ioannis</td>\n",
       "      <td>GRE</td>\n",
       "      <td>Men</td>\n",
       "      <td>100M Freestyle For Sailors</td>\n",
       "      <td>Gold</td>\n",
       "    </tr>\n",
       "    <tr>\n",
       "      <th>4</th>\n",
       "      <td>1896</td>\n",
       "      <td>Athens</td>\n",
       "      <td>Aquatics</td>\n",
       "      <td>Swimming</td>\n",
       "      <td>CHASAPIS, Spiridon</td>\n",
       "      <td>GRE</td>\n",
       "      <td>Men</td>\n",
       "      <td>100M Freestyle For Sailors</td>\n",
       "      <td>Silver</td>\n",
       "    </tr>\n",
       "    <tr>\n",
       "      <th>...</th>\n",
       "      <td>...</td>\n",
       "      <td>...</td>\n",
       "      <td>...</td>\n",
       "      <td>...</td>\n",
       "      <td>...</td>\n",
       "      <td>...</td>\n",
       "      <td>...</td>\n",
       "      <td>...</td>\n",
       "      <td>...</td>\n",
       "    </tr>\n",
       "    <tr>\n",
       "      <th>31160</th>\n",
       "      <td>2012</td>\n",
       "      <td>London</td>\n",
       "      <td>Wrestling</td>\n",
       "      <td>Wrestling Freestyle</td>\n",
       "      <td>JANIKOWSKI, Damian</td>\n",
       "      <td>POL</td>\n",
       "      <td>Men</td>\n",
       "      <td>Wg 84 KG</td>\n",
       "      <td>Bronze</td>\n",
       "    </tr>\n",
       "    <tr>\n",
       "      <th>31161</th>\n",
       "      <td>2012</td>\n",
       "      <td>London</td>\n",
       "      <td>Wrestling</td>\n",
       "      <td>Wrestling Freestyle</td>\n",
       "      <td>REZAEI, Ghasem Gholamreza</td>\n",
       "      <td>IRI</td>\n",
       "      <td>Men</td>\n",
       "      <td>Wg 96 KG</td>\n",
       "      <td>Gold</td>\n",
       "    </tr>\n",
       "    <tr>\n",
       "      <th>31162</th>\n",
       "      <td>2012</td>\n",
       "      <td>London</td>\n",
       "      <td>Wrestling</td>\n",
       "      <td>Wrestling Freestyle</td>\n",
       "      <td>TOTROV, Rustam</td>\n",
       "      <td>RUS</td>\n",
       "      <td>Men</td>\n",
       "      <td>Wg 96 KG</td>\n",
       "      <td>Silver</td>\n",
       "    </tr>\n",
       "    <tr>\n",
       "      <th>31163</th>\n",
       "      <td>2012</td>\n",
       "      <td>London</td>\n",
       "      <td>Wrestling</td>\n",
       "      <td>Wrestling Freestyle</td>\n",
       "      <td>ALEKSANYAN, Artur</td>\n",
       "      <td>ARM</td>\n",
       "      <td>Men</td>\n",
       "      <td>Wg 96 KG</td>\n",
       "      <td>Bronze</td>\n",
       "    </tr>\n",
       "    <tr>\n",
       "      <th>31164</th>\n",
       "      <td>2012</td>\n",
       "      <td>London</td>\n",
       "      <td>Wrestling</td>\n",
       "      <td>Wrestling Freestyle</td>\n",
       "      <td>LIDBERG, Jimmy</td>\n",
       "      <td>SWE</td>\n",
       "      <td>Men</td>\n",
       "      <td>Wg 96 KG</td>\n",
       "      <td>Bronze</td>\n",
       "    </tr>\n",
       "  </tbody>\n",
       "</table>\n",
       "<p>31165 rows × 9 columns</p>\n",
       "</div>"
      ],
      "text/plain": [
       "       Year    City      Sport           Discipline  \\\n",
       "0      1896  Athens   Aquatics             Swimming   \n",
       "1      1896  Athens   Aquatics             Swimming   \n",
       "2      1896  Athens   Aquatics             Swimming   \n",
       "3      1896  Athens   Aquatics             Swimming   \n",
       "4      1896  Athens   Aquatics             Swimming   \n",
       "...     ...     ...        ...                  ...   \n",
       "31160  2012  London  Wrestling  Wrestling Freestyle   \n",
       "31161  2012  London  Wrestling  Wrestling Freestyle   \n",
       "31162  2012  London  Wrestling  Wrestling Freestyle   \n",
       "31163  2012  London  Wrestling  Wrestling Freestyle   \n",
       "31164  2012  London  Wrestling  Wrestling Freestyle   \n",
       "\n",
       "                         Athlete Country Gender                       Event  \\\n",
       "0                  HAJOS, Alfred     HUN    Men              100M Freestyle   \n",
       "1               HERSCHMANN, Otto     AUT    Men              100M Freestyle   \n",
       "2              DRIVAS, Dimitrios     GRE    Men  100M Freestyle For Sailors   \n",
       "3             MALOKINIS, Ioannis     GRE    Men  100M Freestyle For Sailors   \n",
       "4             CHASAPIS, Spiridon     GRE    Men  100M Freestyle For Sailors   \n",
       "...                          ...     ...    ...                         ...   \n",
       "31160         JANIKOWSKI, Damian     POL    Men                    Wg 84 KG   \n",
       "31161  REZAEI, Ghasem Gholamreza     IRI    Men                    Wg 96 KG   \n",
       "31162             TOTROV, Rustam     RUS    Men                    Wg 96 KG   \n",
       "31163          ALEKSANYAN, Artur     ARM    Men                    Wg 96 KG   \n",
       "31164             LIDBERG, Jimmy     SWE    Men                    Wg 96 KG   \n",
       "\n",
       "        Medal  \n",
       "0        Gold  \n",
       "1      Silver  \n",
       "2      Bronze  \n",
       "3        Gold  \n",
       "4      Silver  \n",
       "...       ...  \n",
       "31160  Bronze  \n",
       "31161    Gold  \n",
       "31162  Silver  \n",
       "31163  Bronze  \n",
       "31164  Bronze  \n",
       "\n",
       "[31165 rows x 9 columns]"
      ]
     },
     "execution_count": 3,
     "metadata": {},
     "output_type": "execute_result"
    }
   ],
   "source": [
    "df_summer"
   ]
  },
  {
   "cell_type": "markdown",
   "id": "af1d65f5",
   "metadata": {},
   "source": [
    "Lets also check the dataset, whether we need to **change** any **Dtype** or **drop** any **Null/Nan** rows/columns."
   ]
  },
  {
   "cell_type": "code",
   "execution_count": 4,
   "id": "a4e00308",
   "metadata": {},
   "outputs": [
    {
     "name": "stdout",
     "output_type": "stream",
     "text": [
      "<class 'pandas.core.frame.DataFrame'>\n",
      "RangeIndex: 31165 entries, 0 to 31164\n",
      "Data columns (total 9 columns):\n",
      " #   Column      Non-Null Count  Dtype \n",
      "---  ------      --------------  ----- \n",
      " 0   Year        31165 non-null  int64 \n",
      " 1   City        31165 non-null  object\n",
      " 2   Sport       31165 non-null  object\n",
      " 3   Discipline  31165 non-null  object\n",
      " 4   Athlete     31165 non-null  object\n",
      " 5   Country     31161 non-null  object\n",
      " 6   Gender      31165 non-null  object\n",
      " 7   Event       31165 non-null  object\n",
      " 8   Medal       31165 non-null  object\n",
      "dtypes: int64(1), object(8)\n",
      "memory usage: 2.1+ MB\n"
     ]
    }
   ],
   "source": [
    "df_summer.info()"
   ]
  },
  {
   "cell_type": "code",
   "execution_count": 5,
   "id": "76532e52",
   "metadata": {},
   "outputs": [
    {
     "data": {
      "text/plain": [
       "Year          0\n",
       "City          0\n",
       "Sport         0\n",
       "Discipline    0\n",
       "Athlete       0\n",
       "Country       4\n",
       "Gender        0\n",
       "Event         0\n",
       "Medal         0\n",
       "dtype: int64"
      ]
     },
     "execution_count": 5,
     "metadata": {},
     "output_type": "execute_result"
    }
   ],
   "source": [
    "df_summer.isnull().sum()"
   ]
  },
  {
   "cell_type": "code",
   "execution_count": 8,
   "id": "2f96469c",
   "metadata": {},
   "outputs": [
    {
     "data": {
      "text/html": [
       "<div>\n",
       "<style scoped>\n",
       "    .dataframe tbody tr th:only-of-type {\n",
       "        vertical-align: middle;\n",
       "    }\n",
       "\n",
       "    .dataframe tbody tr th {\n",
       "        vertical-align: top;\n",
       "    }\n",
       "\n",
       "    .dataframe thead th {\n",
       "        text-align: right;\n",
       "    }\n",
       "</style>\n",
       "<table border=\"1\" class=\"dataframe\">\n",
       "  <thead>\n",
       "    <tr style=\"text-align: right;\">\n",
       "      <th></th>\n",
       "      <th>Year</th>\n",
       "      <th>City</th>\n",
       "      <th>Sport</th>\n",
       "      <th>Discipline</th>\n",
       "      <th>Athlete</th>\n",
       "      <th>Country</th>\n",
       "      <th>Gender</th>\n",
       "      <th>Event</th>\n",
       "      <th>Medal</th>\n",
       "    </tr>\n",
       "  </thead>\n",
       "  <tbody>\n",
       "    <tr>\n",
       "      <th>29603</th>\n",
       "      <td>2012</td>\n",
       "      <td>London</td>\n",
       "      <td>Athletics</td>\n",
       "      <td>Athletics</td>\n",
       "      <td>Pending</td>\n",
       "      <td>NaN</td>\n",
       "      <td>Women</td>\n",
       "      <td>1500M</td>\n",
       "      <td>Gold</td>\n",
       "    </tr>\n",
       "    <tr>\n",
       "      <th>31072</th>\n",
       "      <td>2012</td>\n",
       "      <td>London</td>\n",
       "      <td>Weightlifting</td>\n",
       "      <td>Weightlifting</td>\n",
       "      <td>Pending</td>\n",
       "      <td>NaN</td>\n",
       "      <td>Women</td>\n",
       "      <td>63KG</td>\n",
       "      <td>Gold</td>\n",
       "    </tr>\n",
       "    <tr>\n",
       "      <th>31091</th>\n",
       "      <td>2012</td>\n",
       "      <td>London</td>\n",
       "      <td>Weightlifting</td>\n",
       "      <td>Weightlifting</td>\n",
       "      <td>Pending</td>\n",
       "      <td>NaN</td>\n",
       "      <td>Men</td>\n",
       "      <td>94KG</td>\n",
       "      <td>Silver</td>\n",
       "    </tr>\n",
       "    <tr>\n",
       "      <th>31110</th>\n",
       "      <td>2012</td>\n",
       "      <td>London</td>\n",
       "      <td>Wrestling</td>\n",
       "      <td>Wrestling Freestyle</td>\n",
       "      <td>KUDUKHOV, Besik</td>\n",
       "      <td>NaN</td>\n",
       "      <td>Men</td>\n",
       "      <td>Wf 60 KG</td>\n",
       "      <td>Silver</td>\n",
       "    </tr>\n",
       "  </tbody>\n",
       "</table>\n",
       "</div>"
      ],
      "text/plain": [
       "       Year    City          Sport           Discipline          Athlete  \\\n",
       "29603  2012  London      Athletics            Athletics          Pending   \n",
       "31072  2012  London  Weightlifting        Weightlifting          Pending   \n",
       "31091  2012  London  Weightlifting        Weightlifting          Pending   \n",
       "31110  2012  London      Wrestling  Wrestling Freestyle  KUDUKHOV, Besik   \n",
       "\n",
       "      Country Gender     Event   Medal  \n",
       "29603     NaN  Women     1500M    Gold  \n",
       "31072     NaN  Women      63KG    Gold  \n",
       "31091     NaN    Men      94KG  Silver  \n",
       "31110     NaN    Men  Wf 60 KG  Silver  "
      ]
     },
     "execution_count": 8,
     "metadata": {},
     "output_type": "execute_result"
    }
   ],
   "source": [
    "df_summer[df_summer['Country'].isna()]"
   ]
  },
  {
   "cell_type": "markdown",
   "id": "96154ca0",
   "metadata": {},
   "source": [
    "### Drop NA rows"
   ]
  },
  {
   "cell_type": "markdown",
   "id": "a0a62422",
   "metadata": {},
   "source": [
    "Seems like we have some NaN rows, lets drop them. "
   ]
  },
  {
   "cell_type": "code",
   "execution_count": 9,
   "id": "92c8275c",
   "metadata": {},
   "outputs": [
    {
     "data": {
      "text/plain": [
       "(31161, 9)"
      ]
     },
     "execution_count": 9,
     "metadata": {},
     "output_type": "execute_result"
    }
   ],
   "source": [
    "df_summer.dropna(inplace = True)\n",
    "df_summer.shape"
   ]
  },
  {
   "cell_type": "code",
   "execution_count": 10,
   "id": "a6143e8c",
   "metadata": {},
   "outputs": [
    {
     "data": {
      "text/plain": [
       "Year          0\n",
       "City          0\n",
       "Sport         0\n",
       "Discipline    0\n",
       "Athlete       0\n",
       "Country       0\n",
       "Gender        0\n",
       "Event         0\n",
       "Medal         0\n",
       "dtype: int64"
      ]
     },
     "execution_count": 10,
     "metadata": {},
     "output_type": "execute_result"
    }
   ],
   "source": [
    "df_summer.isnull().sum()"
   ]
  },
  {
   "cell_type": "markdown",
   "id": "82852aee",
   "metadata": {},
   "source": [
    "## Medals by Disciplne"
   ]
  },
  {
   "cell_type": "code",
   "execution_count": null,
   "id": "9c344170",
   "metadata": {},
   "outputs": [],
   "source": []
  },
  {
   "cell_type": "code",
   "execution_count": null,
   "id": "0803c000",
   "metadata": {},
   "outputs": [],
   "source": []
  },
  {
   "cell_type": "code",
   "execution_count": null,
   "id": "b2376d43",
   "metadata": {},
   "outputs": [],
   "source": [
    "df_by_discipline = df_summer[[\"Year\", \"Sport\", \"Discipline\",\"Country\", \"Gender\", \"Event\", \"Medal\"]].drop_duplicates()\n",
    "df_by_discipline = df_by_discipline.groupby(['Country','Discipline'], as_index = False)['Medal'].count()\n",
    "df_by_discipline.sort_values(by='Medal', ascending=False).head(20)"
   ]
  },
  {
   "cell_type": "code",
   "execution_count": null,
   "id": "6bf627f3",
   "metadata": {},
   "outputs": [],
   "source": [
    "df_athletes = df_summer.groupby(['Country','Athlete'], as_index = False)['Medal'].count()\n",
    "df_athletes = df_athletes.sort_values(by='Medal', ascending=False)\n",
    "df_athletes.head(20)"
   ]
  },
  {
   "cell_type": "code",
   "execution_count": null,
   "id": "8487efb6",
   "metadata": {},
   "outputs": [],
   "source": []
  },
  {
   "cell_type": "code",
   "execution_count": null,
   "id": "0cab29d5",
   "metadata": {},
   "outputs": [],
   "source": []
  },
  {
   "cell_type": "code",
   "execution_count": null,
   "id": "d51018e4",
   "metadata": {},
   "outputs": [],
   "source": []
  },
  {
   "cell_type": "code",
   "execution_count": null,
   "id": "c175f2c3",
   "metadata": {},
   "outputs": [],
   "source": []
  },
  {
   "cell_type": "markdown",
   "id": "fc4588a8",
   "metadata": {},
   "source": [
    "# Dropping duplicates\n",
    "\n",
    "For team-based sports we want to count medals only once, hence we will drop duplicates avoiding this issue. "
   ]
  },
  {
   "cell_type": "code",
   "execution_count": null,
   "id": "cbba11b3",
   "metadata": {},
   "outputs": [],
   "source": []
  },
  {
   "cell_type": "code",
   "execution_count": null,
   "id": "556db49e",
   "metadata": {},
   "outputs": [],
   "source": [
    "df_summer_nathle = df_summer[[\"Year\", \"Sport\", \"Country\", \"Gender\", \"Event\", \"Medal\"]].drop_duplicates()\n",
    "df_summer_nathle"
   ]
  },
  {
   "cell_type": "code",
   "execution_count": null,
   "id": "a154860c",
   "metadata": {},
   "outputs": [],
   "source": [
    "df_medals = df_summer_nathle.groupby([\"Country\", \"Year\"])[\"Medal\"].count().unstack()\n",
    "df_medals"
   ]
  },
  {
   "cell_type": "code",
   "execution_count": null,
   "id": "cca1dcb4",
   "metadata": {},
   "outputs": [],
   "source": [
    "Countries = [\"USA\", \n",
    "    \"CHN\", \n",
    "    \"RU1\", \"URS\", \"EUN\", \"RUS\", \n",
    "    \"GDR\", \"FRG\", \"EUA\", \"GER\", \n",
    "    \"GBR\", \"AUS\", \"ANZ\",\n",
    "    \"FRA\",\n",
    "    \"ITA\"]"
   ]
  },
  {
   "cell_type": "code",
   "execution_count": null,
   "id": "5852fd78",
   "metadata": {},
   "outputs": [],
   "source": [
    "teste = df_medals.loc[Countries]\n",
    "teste"
   ]
  },
  {
   "cell_type": "code",
   "execution_count": null,
   "id": "d10a2371",
   "metadata": {},
   "outputs": [],
   "source": [
    "df_medals = df_summer_nathle.groupby([\"Country\", \"Year\"], as_index=False)[\"Medal\"].count()\n",
    "df_medals = df_medals.groupby(['Country'], as_index = False)['Medal'].sum()\n",
    "df_medals = df_medals[df_medals['Country'].isin(Countries)].sort_values(by='Medal', ascending=False)"
   ]
  },
  {
   "cell_type": "code",
   "execution_count": null,
   "id": "8333626d",
   "metadata": {},
   "outputs": [],
   "source": [
    "df_medals"
   ]
  },
  {
   "cell_type": "code",
   "execution_count": null,
   "id": "a4efaad4",
   "metadata": {},
   "outputs": [],
   "source": [
    "plt.figure(figsize = (10,6))\n",
    "plt.bar(df_medals['Country'],sorted(df_medals['Medal'], reverse= True), width=0.7)\n",
    "plt.xlabel('Countries')\n",
    "plt.ylabel('Total Medals')\n",
    "plt.title('Bar Chart for Selected Countries in Summer Olympic Games')\n",
    "plt.ylim([0,2500])\n",
    "plt.show;"
   ]
  },
  {
   "cell_type": "code",
   "execution_count": null,
   "id": "7c8424fa",
   "metadata": {},
   "outputs": [],
   "source": [
    "df_summer_gold = df_summer_nathle[df_summer_nathle['Medal'] == 'Gold']\n",
    "gold_countries = df_summer_gold.groupby([\"Country\"], as_index=False)[\"Medal\"].count()\n",
    "gold_countries = gold_countries[gold_countries['Country'].isin(Countries)]"
   ]
  },
  {
   "cell_type": "code",
   "execution_count": null,
   "id": "e0255d10",
   "metadata": {},
   "outputs": [],
   "source": [
    "df_summer_silver = df_summer_nathle[df_summer_nathle['Medal'] == 'Silver']\n",
    "silver_countries = df_summer_silver.groupby([\"Country\"], as_index=False)[\"Medal\"].count()\n",
    "silver_countries = silver_countries[silver_countries['Country'].isin(Countries)]"
   ]
  },
  {
   "cell_type": "code",
   "execution_count": null,
   "id": "4c810a4f",
   "metadata": {},
   "outputs": [],
   "source": [
    "df_summer_bronze = df_summer_nathle[df_summer_nathle['Medal'] == 'Bronze']\n",
    "bronze_countries = df_summer_bronze.groupby([\"Country\"], as_index=False)[\"Medal\"].count()\n",
    "bronze_countries = bronze_countries[bronze_countries['Country'].isin(Countries)]"
   ]
  },
  {
   "cell_type": "code",
   "execution_count": null,
   "id": "3714c3b9",
   "metadata": {},
   "outputs": [],
   "source": [
    "first_merge = pd.merge(bronze_countries, silver_countries,how='inner', on='Country')\n",
    "medals_countries = pd.merge(first_merge, gold_countries,how='inner', on='Country')\n",
    "medals_countries = medals_countries.sort_values(by = 'Medal', ascending=False)\n",
    "medals_countries.rename(columns={'Medal_x': 'Bronze', 'Medal_y': 'Silver', 'Medal': 'Gold'}, inplace=True)"
   ]
  },
  {
   "cell_type": "code",
   "execution_count": null,
   "id": "2970b73b",
   "metadata": {},
   "outputs": [],
   "source": [
    "medals_countries"
   ]
  },
  {
   "cell_type": "code",
   "execution_count": null,
   "id": "d9573fb9",
   "metadata": {},
   "outputs": [],
   "source": [
    "plt.figure(figsize = (10,6))\n",
    "plt.bar(medals_countries['Country'], medals_countries['Bronze'],color = 'orange')\n",
    "plt.bar(medals_countries['Country'], medals_countries['Silver'], bottom = medals_countries['Bronze'],color = 'silver')\n",
    "plt.bar(medals_countries['Country'], medals_countries['Gold'], bottom = medals_countries['Bronze'] + medals_countries['Silver'],color = 'yellow')\n",
    "plt.xlabel('Countries')\n",
    "plt.ylabel('Medals')\n",
    "plt.legend([\"Bronze\", \"Silver\", \"Gold\"])\n",
    "plt.show()"
   ]
  },
  {
   "cell_type": "code",
   "execution_count": null,
   "id": "48556feb",
   "metadata": {},
   "outputs": [],
   "source": []
  },
  {
   "cell_type": "code",
   "execution_count": null,
   "id": "9a17e13e",
   "metadata": {},
   "outputs": [],
   "source": []
  },
  {
   "cell_type": "code",
   "execution_count": null,
   "id": "40779c69",
   "metadata": {},
   "outputs": [],
   "source": []
  }
 ],
 "metadata": {
  "kernelspec": {
   "display_name": "Python 3 (ipykernel)",
   "language": "python",
   "name": "python3"
  },
  "language_info": {
   "codemirror_mode": {
    "name": "ipython",
    "version": 3
   },
   "file_extension": ".py",
   "mimetype": "text/x-python",
   "name": "python",
   "nbconvert_exporter": "python",
   "pygments_lexer": "ipython3",
   "version": "3.8.12"
  },
  "toc": {
   "base_numbering": 1,
   "nav_menu": {},
   "number_sections": true,
   "sideBar": true,
   "skip_h1_title": false,
   "title_cell": "Table of Contents",
   "title_sidebar": "Contents",
   "toc_cell": false,
   "toc_position": {},
   "toc_section_display": true,
   "toc_window_display": false
  }
 },
 "nbformat": 4,
 "nbformat_minor": 5
}
